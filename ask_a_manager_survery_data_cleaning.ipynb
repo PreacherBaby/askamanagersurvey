{
 "cells": [
  {
   "cell_type": "markdown",
   "id": "5b9d7c2a",
   "metadata": {},
   "source": [
    "## Ask A Manager Salary Survey 2021 (Responses).\n",
    "\n",
    "[This dataset I've found on internet](https://docs.google.com/spreadsheets/d/1IPS5dBSGtwYVbjsfbaMCYIWnOuRmJcbequohNxCyGVw/edit?usp=sharing) represents the responses of managers from different countries of the world. to my knowledge, the dataset is 'live', which means it's constantly growing. The survey itself can be filled out [here](https://www.askamanager.org/2021/04/how-much-money-do-you-make-4.html)\n",
    "\n",
    "### Let's clean it!"
   ]
  },
  {
   "cell_type": "code",
   "execution_count": 28,
   "id": "6ccb5623",
   "metadata": {},
   "outputs": [],
   "source": [
    "#importing my 'everyday' tools to work with dataset\n",
    "import pandas as pd\n",
    "import matplotlib.pyplot as plt\n",
    "from adjustText import adjust_text\n",
    "import seaborn as sns\n",
    "%matplotlib inline"
   ]
  },
  {
   "cell_type": "code",
   "execution_count": 29,
   "id": "90c4912d",
   "metadata": {},
   "outputs": [],
   "source": [
    "dataset_main = pd.read_csv('ask_a_manager.csv', parse_dates = ['Timestamp'])\n",
    "copy_df = dataset_main.copy()"
   ]
  },
  {
   "cell_type": "code",
   "execution_count": 30,
   "id": "e5f94027",
   "metadata": {},
   "outputs": [
    {
     "name": "stdout",
     "output_type": "stream",
     "text": [
      "<class 'pandas.core.frame.DataFrame'>\n",
      "RangeIndex: 27620 entries, 0 to 27619\n",
      "Data columns (total 18 columns):\n",
      " #   Column                                    Non-Null Count  Dtype         \n",
      "---  ------                                    --------------  -----         \n",
      " 0   Timestamp                                 27620 non-null  datetime64[ns]\n",
      " 1   How old are you?                          27620 non-null  object        \n",
      " 2   Industry                                  27551 non-null  object        \n",
      " 3   Job title                                 27620 non-null  object        \n",
      " 4   Additional context on job title           7151 non-null   object        \n",
      " 5   Annual salary                             27620 non-null  object        \n",
      " 6   Other monetary comp                       20472 non-null  float64       \n",
      " 7   Currency                                  27620 non-null  object        \n",
      " 8   Currency - other                          182 non-null    object        \n",
      " 9   Additional context on income              3006 non-null   object        \n",
      " 10  Country                                   27620 non-null  object        \n",
      " 11  State                                     22708 non-null  object        \n",
      " 12  City                                      27545 non-null  object        \n",
      " 13  Overall years of professional experience  27620 non-null  object        \n",
      " 14  Years of experience in field              27620 non-null  object        \n",
      " 15  Highest level of education completed      27413 non-null  object        \n",
      " 16  Gender                                    27456 non-null  object        \n",
      " 17  Race                                      27460 non-null  object        \n",
      "dtypes: datetime64[ns](1), float64(1), object(16)\n",
      "memory usage: 3.8+ MB\n"
     ]
    }
   ],
   "source": [
    "copy_df.info()"
   ]
  },
  {
   "cell_type": "code",
   "execution_count": 31,
   "id": "316fcdf1",
   "metadata": {},
   "outputs": [],
   "source": [
    "#removing duplicates if present\n",
    "copy_df = copy_df.drop_duplicates()"
   ]
  },
  {
   "cell_type": "code",
   "execution_count": 32,
   "id": "a2478b2a",
   "metadata": {},
   "outputs": [],
   "source": [
    "# Trimming whitespaces, extra characters in the whole dataset in advance\n",
    "df_object_types = copy_df.select_dtypes(['object']) #selecting columns with 'object', string type\n",
    "copy_df[df_object_types.columns] = df_object_types.apply(lambda x: x.str.strip()) #trimming columns"
   ]
  },
  {
   "cell_type": "code",
   "execution_count": 33,
   "id": "2950990e",
   "metadata": {},
   "outputs": [],
   "source": [
    "# lowering characters in column headers to maintain consistency \n",
    "copy_df.columns = [x.lower() for x in copy_df.columns]"
   ]
  },
  {
   "cell_type": "code",
   "execution_count": 34,
   "id": "b8ad32b2",
   "metadata": {},
   "outputs": [],
   "source": [
    "copy_df['timestamp'] = copy_df['timestamp'].dt.normalize() #normalizing 'timestamp' column to show the date without time"
   ]
  },
  {
   "cell_type": "code",
   "execution_count": 35,
   "id": "0c221981",
   "metadata": {},
   "outputs": [],
   "source": [
    "# Converting 'Annual Salary' columns into int type\n",
    "copy_df['annual salary'] = copy_df['annual salary'].replace(',','', regex=True).astype(int)"
   ]
  },
  {
   "cell_type": "code",
   "execution_count": 36,
   "id": "462ea59d",
   "metadata": {},
   "outputs": [
    {
     "data": {
      "text/html": [
       "<div>\n",
       "<style scoped>\n",
       "    .dataframe tbody tr th:only-of-type {\n",
       "        vertical-align: middle;\n",
       "    }\n",
       "\n",
       "    .dataframe tbody tr th {\n",
       "        vertical-align: top;\n",
       "    }\n",
       "\n",
       "    .dataframe thead th {\n",
       "        text-align: right;\n",
       "    }\n",
       "</style>\n",
       "<table border=\"1\" class=\"dataframe\">\n",
       "  <thead>\n",
       "    <tr style=\"text-align: right;\">\n",
       "      <th></th>\n",
       "      <th>timestamp</th>\n",
       "      <th>how old are you?</th>\n",
       "      <th>industry</th>\n",
       "      <th>job title</th>\n",
       "      <th>additional context on job title</th>\n",
       "      <th>annual salary</th>\n",
       "      <th>other monetary comp</th>\n",
       "      <th>currency</th>\n",
       "      <th>currency - other</th>\n",
       "      <th>additional context on income</th>\n",
       "      <th>country</th>\n",
       "      <th>state</th>\n",
       "      <th>city</th>\n",
       "      <th>overall years of professional experience</th>\n",
       "      <th>years of experience in field</th>\n",
       "      <th>highest level of education completed</th>\n",
       "      <th>gender</th>\n",
       "      <th>race</th>\n",
       "    </tr>\n",
       "  </thead>\n",
       "  <tbody>\n",
       "    <tr>\n",
       "      <th>0</th>\n",
       "      <td>2021-04-27</td>\n",
       "      <td>25-34</td>\n",
       "      <td>Education (Higher Education)</td>\n",
       "      <td>Research and Instruction Librarian</td>\n",
       "      <td>NaN</td>\n",
       "      <td>55000</td>\n",
       "      <td>0.0</td>\n",
       "      <td>USD</td>\n",
       "      <td>NaN</td>\n",
       "      <td>NaN</td>\n",
       "      <td>United States</td>\n",
       "      <td>Massachusetts</td>\n",
       "      <td>Boston</td>\n",
       "      <td>5-7 years</td>\n",
       "      <td>5-7 years</td>\n",
       "      <td>Master's degree</td>\n",
       "      <td>Woman</td>\n",
       "      <td>White</td>\n",
       "    </tr>\n",
       "    <tr>\n",
       "      <th>1</th>\n",
       "      <td>2021-04-27</td>\n",
       "      <td>25-34</td>\n",
       "      <td>Computing or Tech</td>\n",
       "      <td>Change &amp; Internal Communications Manager</td>\n",
       "      <td>NaN</td>\n",
       "      <td>54600</td>\n",
       "      <td>4000.0</td>\n",
       "      <td>GBP</td>\n",
       "      <td>NaN</td>\n",
       "      <td>NaN</td>\n",
       "      <td>United Kingdom</td>\n",
       "      <td>NaN</td>\n",
       "      <td>Cambridge</td>\n",
       "      <td>8 - 10 years</td>\n",
       "      <td>5-7 years</td>\n",
       "      <td>College degree</td>\n",
       "      <td>Non-binary</td>\n",
       "      <td>White</td>\n",
       "    </tr>\n",
       "    <tr>\n",
       "      <th>2</th>\n",
       "      <td>2021-04-27</td>\n",
       "      <td>25-34</td>\n",
       "      <td>Accounting, Banking &amp; Finance</td>\n",
       "      <td>Marketing Specialist</td>\n",
       "      <td>NaN</td>\n",
       "      <td>34000</td>\n",
       "      <td>NaN</td>\n",
       "      <td>USD</td>\n",
       "      <td>NaN</td>\n",
       "      <td>NaN</td>\n",
       "      <td>US</td>\n",
       "      <td>Tennessee</td>\n",
       "      <td>Chattanooga</td>\n",
       "      <td>2 - 4 years</td>\n",
       "      <td>2 - 4 years</td>\n",
       "      <td>College degree</td>\n",
       "      <td>Woman</td>\n",
       "      <td>White</td>\n",
       "    </tr>\n",
       "    <tr>\n",
       "      <th>3</th>\n",
       "      <td>2021-04-27</td>\n",
       "      <td>25-34</td>\n",
       "      <td>Nonprofits</td>\n",
       "      <td>Program Manager</td>\n",
       "      <td>NaN</td>\n",
       "      <td>62000</td>\n",
       "      <td>3000.0</td>\n",
       "      <td>USD</td>\n",
       "      <td>NaN</td>\n",
       "      <td>NaN</td>\n",
       "      <td>USA</td>\n",
       "      <td>Wisconsin</td>\n",
       "      <td>Milwaukee</td>\n",
       "      <td>8 - 10 years</td>\n",
       "      <td>5-7 years</td>\n",
       "      <td>College degree</td>\n",
       "      <td>Woman</td>\n",
       "      <td>White</td>\n",
       "    </tr>\n",
       "    <tr>\n",
       "      <th>4</th>\n",
       "      <td>2021-04-27</td>\n",
       "      <td>25-34</td>\n",
       "      <td>Accounting, Banking &amp; Finance</td>\n",
       "      <td>Accounting Manager</td>\n",
       "      <td>NaN</td>\n",
       "      <td>60000</td>\n",
       "      <td>7000.0</td>\n",
       "      <td>USD</td>\n",
       "      <td>NaN</td>\n",
       "      <td>NaN</td>\n",
       "      <td>US</td>\n",
       "      <td>South Carolina</td>\n",
       "      <td>Greenville</td>\n",
       "      <td>8 - 10 years</td>\n",
       "      <td>5-7 years</td>\n",
       "      <td>College degree</td>\n",
       "      <td>Woman</td>\n",
       "      <td>White</td>\n",
       "    </tr>\n",
       "  </tbody>\n",
       "</table>\n",
       "</div>"
      ],
      "text/plain": [
       "   timestamp how old are you?                       industry  \\\n",
       "0 2021-04-27            25-34   Education (Higher Education)   \n",
       "1 2021-04-27            25-34              Computing or Tech   \n",
       "2 2021-04-27            25-34  Accounting, Banking & Finance   \n",
       "3 2021-04-27            25-34                     Nonprofits   \n",
       "4 2021-04-27            25-34  Accounting, Banking & Finance   \n",
       "\n",
       "                                  job title additional context on job title  \\\n",
       "0        Research and Instruction Librarian                             NaN   \n",
       "1  Change & Internal Communications Manager                             NaN   \n",
       "2                      Marketing Specialist                             NaN   \n",
       "3                           Program Manager                             NaN   \n",
       "4                        Accounting Manager                             NaN   \n",
       "\n",
       "   annual salary  other monetary comp currency currency - other  \\\n",
       "0          55000                  0.0      USD              NaN   \n",
       "1          54600               4000.0      GBP              NaN   \n",
       "2          34000                  NaN      USD              NaN   \n",
       "3          62000               3000.0      USD              NaN   \n",
       "4          60000               7000.0      USD              NaN   \n",
       "\n",
       "  additional context on income         country           state         city  \\\n",
       "0                          NaN   United States   Massachusetts       Boston   \n",
       "1                          NaN  United Kingdom             NaN    Cambridge   \n",
       "2                          NaN              US       Tennessee  Chattanooga   \n",
       "3                          NaN             USA       Wisconsin    Milwaukee   \n",
       "4                          NaN              US  South Carolina   Greenville   \n",
       "\n",
       "  overall years of professional experience years of experience in field  \\\n",
       "0                                5-7 years                    5-7 years   \n",
       "1                             8 - 10 years                    5-7 years   \n",
       "2                              2 - 4 years                  2 - 4 years   \n",
       "3                             8 - 10 years                    5-7 years   \n",
       "4                             8 - 10 years                    5-7 years   \n",
       "\n",
       "  highest level of education completed      gender   race  \n",
       "0                      Master's degree       Woman  White  \n",
       "1                       College degree  Non-binary  White  \n",
       "2                       College degree       Woman  White  \n",
       "3                       College degree       Woman  White  \n",
       "4                       College degree       Woman  White  "
      ]
     },
     "execution_count": 36,
     "metadata": {},
     "output_type": "execute_result"
    }
   ],
   "source": [
    "copy_df.head()"
   ]
  },
  {
   "cell_type": "markdown",
   "id": "8af167c2",
   "metadata": {},
   "source": [
    "# cleaning the 'country' column.\n",
    "Time to clean \"country\" column, which seems to be severely inconsistent"
   ]
  },
  {
   "cell_type": "code",
   "execution_count": 37,
   "id": "e93029c8",
   "metadata": {},
   "outputs": [
    {
     "data": {
      "text/plain": [
       "array(['United States', 'United Kingdom', 'US', 'USA', 'Canada', 'usa',\n",
       "       'UK', 'Scotland', 'U.S.', 'The Netherlands', 'Australia', 'Spain',\n",
       "       'us', 'Usa', 'England', 'finland', 'United States of America',\n",
       "       'France', 'United states', 'Germany', 'united states', 'Ireland',\n",
       "       'India', 'Uk', 'canada', 'U.S>', 'ISA', 'Argentina',\n",
       "       'Great Britain', 'United State', 'U.S.A', 'Denmark', 'U.S.A.',\n",
       "       'America', 'Netherlands', 'netherlands',\n",
       "       'united states of america', 'Switzerland', 'Bermuda', 'Us',\n",
       "       'The United States', 'United State of America', 'Malaysia',\n",
       "       'Mexico', 'United Stated', 'South Africa', 'Belgium',\n",
       "       'Northern Ireland', 'u.s.', 'UNITED STATES', 'united States',\n",
       "       'Sweden', 'Hong Kong', 'Kuwait', 'Norway', 'Sri lanka',\n",
       "       'Contracts', 'USA-- Virgin Islands', 'United Statws', 'England/UK',\n",
       "       'U.S',\n",
       "       \"We don't get raises, we get quarterly bonuses, but they periodically asses income in the area you work, so I got a raise because a 3rd party assessment showed I was paid too little for the area we were located\",\n",
       "       'Unites States', 'England, UK.', 'Greece', 'Japan', 'U. S.',\n",
       "       'Britain', 'United Sates', 'Austria', 'Brazil',\n",
       "       'Canada, Ottawa, ontario', 'Global', 'United States of American',\n",
       "       'FRANCE', 'Uniited States', 'United Kingdom (England)',\n",
       "       'Worldwide (based in US but short term trips aroudn the world)',\n",
       "       'CANADA', 'Canadw', 'Hungary', 'Luxembourg',\n",
       "       'United Sates of America', 'ireland',\n",
       "       'United States (I work from home and my clients are all over the US/Canada/PR',\n",
       "       'Colombia', 'Unted States', 'germany', 'United Statesp',\n",
       "       'United Stattes', 'United Statea', 'United Kingdom.',\n",
       "       'New Zealand', 'Trinidad and Tobago', 'United Statees',\n",
       "       'United kingdom', 'Cayman Islands', 'UNited States', 'Can',\n",
       "       'I am located in Canada but I work for a company in the US',\n",
       "       'Uniyed states', 'Uniyes States', 'United States of Americas',\n",
       "       'U.A.', 'Czech republic', 'Czechia', 'Latvia', 'Finland',\n",
       "       'Puerto Rico', 'US of A', 'Rwanda', 'United States of america',\n",
       "       'United Arab Emirates', 'Bangladesh', 'U.K.', 'Romania', 'U.SA',\n",
       "       'United Kindom', 'United Status', 'Currently finance', 'Serbia',\n",
       "       'Philippines', 'Russia', 'Poland', 'UXZ', 'czech republic',\n",
       "       'England, UK', 'Turkey', 'Canda', 'Canada and USA', 'Catalonia',\n",
       "       '$2,175.84/year is deducted for benefits', 'uk', 'Italy (South)',\n",
       "       'Jersey, Channel islands', 'China', 'Virginia', 'Afghanistan',\n",
       "       'Israel', 'U.s.', 'U.s.a.', 'USS', 'Uniteed States',\n",
       "       'New Zealand Aotearoa', 'Hartford', 'Japan, US Gov position',\n",
       "       'Csnada', 'United Stares', 'New zealand', 'Mainland China', 'I.S.',\n",
       "       'UK (Northern Ireland)', 'UK for U.S. company', 'Unites states',\n",
       "       'NZ', 'Taiwan', 'Canad', 'Unite States', 'australia', 'The US',\n",
       "       'Cambodia', 'United states of America', 'Vietnam', 'Remote',\n",
       "       'Singapore', 'South Korea', 'Czech Republic', 'Thailand',\n",
       "       'Lithuania', 'Eritrea', 'Indonesia',\n",
       "       'For the United States government, but posted overseas', 'IS',\n",
       "       'United Kingdomk', 'Italy', 'Cuba', 'Slovenia', 'Australi',\n",
       "       \"Cote d'Ivoire\", 'united kingdom',\n",
       "       'From Romania, but for an US based company', 'Somalia',\n",
       "       'Wales (United Kingdom)', 'England, Gb', 'UnitedStates',\n",
       "       'Sri Lanka', 'spain', 'Danmark', 'U.K. (northern England)', 'U.K',\n",
       "       'NL', 'the Netherlands', 'Nederland', 'Slovakia', 'Portugal',\n",
       "       'England, United Kingdom', 'Sierra Leone', 'Englang',\n",
       "       'United statew', 'UAE',\n",
       "       'bonus based on meeting yearly goals set w/ my supervisor',\n",
       "       'International', 'The Bahamas', 'Wales',\n",
       "       \"I earn commission on sales. If I meet quota, I'm guaranteed another 16k min. Last year i earned an additional 27k. It's not uncommon for people in my space to earn 100k+ after commission.\",\n",
       "       'Costa Rica', 'United Statues', 'Untied States',\n",
       "       'USA (company is based in a US territory, I work remote)', 'Chile',\n",
       "       'denmark', 'UK (England)', 'UK, remote', 'Scotland, UK', 'USAB',\n",
       "       'Unitied States', 'Qatar', 'United Sttes', 'Remote (philippines)',\n",
       "       'Unites kingdom', 'South africa', 'united stated',\n",
       "       'United States Of America', 'Nigeria', 'Panamá', 'england',\n",
       "       'SWITZERLAND',\n",
       "       'Austria, but I work remotely for a Dutch/British company',\n",
       "       \"I work for an US based company but I'm from Argentina.\",\n",
       "       'I was brought in on this salary to help with the EHR and very quickly was promoted to current position but compensation was not altered.',\n",
       "       'Uniter Statez', 'U. S', 'Congo', 'Uruguay', 'Pakistan', 'Brasil',\n",
       "       'USA tomorrow', 'United Stateds',\n",
       "       'n/a (remote from wherever I want)', 'singapore',\n",
       "       'US govt employee overseas, country withheld', 'Uganda', 'Malta',\n",
       "       'Saudi Arabia', 'Bulgaria', 'Estonia', 'Morocco', 'new zealand',\n",
       "       'Africa', 'Ecuador', 'Zimbabwe', 'Ghana', 'San Francisco', 'Usat',\n",
       "       '🇺🇸', 'Luxemburg', 'Unitef Stated', 'UA', 'Wales, UK', 'Croatia',\n",
       "       'United STates', 'USaa', 'uSA', 'The netherlands', 'Ukraine',\n",
       "       'america', 'switzerland', 'United States- Puerto Rico',\n",
       "       'From New Zealand but on projects across APAC', 'Y', 'United y',\n",
       "       'Wales (UK)', 'Isle of Man', 'Northern Ireland, United Kingdom',\n",
       "       'europe', 'California',\n",
       "       'UK, but for globally fully remote company', 'Australian',\n",
       "       'México', 'Jamaica', 'uS', 'USD', 'the netherlands',\n",
       "       \"USA, but for foreign gov't\", 'japan', 'Kenya', 'Jordan',\n",
       "       'United Statss', 'ARGENTINA BUT MY ORG IS IN THAILAND',\n",
       "       'United states of america', 'UsA',\n",
       "       'I work for a UAE-based organization, though I am personally in the US.',\n",
       "       'United  States', 'france', 'Aotearoa New Zealand', 'na', 'Policy',\n",
       "       'Cyprus', 'hong konh', 'United States is America', 'Liechtenstein',\n",
       "       'Company in Germany. I work from Pakistan.', 'croatia', 'Canadá',\n",
       "       'ENGLAND'], dtype=object)"
      ]
     },
     "execution_count": 37,
     "metadata": {},
     "output_type": "execute_result"
    }
   ],
   "source": [
    "copy_df[\"country\"].unique()"
   ]
  },
  {
   "cell_type": "markdown",
   "id": "7ca7073b",
   "metadata": {},
   "source": [
    "There are plenty of variants of the same countries present. The most inconsistent one is USA. My decision here is to separate 'USA' variants from others first, finding all occurrences and replacing them with one - 'US'."
   ]
  },
  {
   "cell_type": "code",
   "execution_count": 38,
   "id": "8944edb2",
   "metadata": {},
   "outputs": [],
   "source": [
    "US_list = ['United States', \n",
    " 'USA', 'usa', 'U.S.','us', 'Usa',\n",
    " 'United States of America', \n",
    " 'United states',  'united states','U.S>', 'ISA','United State', \n",
    " 'U.S.A', 'U.S.A.','America', 'united states of america', 'Us',\n",
    " 'The United States', 'United State of America', 'United Stated','u.s.', 'UNITED STATES', 'united States',\n",
    "'USA-- Virgin Islands', 'United Statws', 'U.S', 'Unites States', 'U. S.','United Sates',  \n",
    " 'United States of American', 'Uniited States', 'United Sates of America',\n",
    "'Unted States', 'United Statesp', 'United States (I work from home and my clients are all over the US/Canada/PR',\n",
    " 'United Stattes', 'United Statea', 'United Statees', 'UNited States','Uniyed states', 'Uniyes States', \n",
    " 'United States of Americas','U.A.', 'US of A', 'United States of america','U.SA',\n",
    " 'United Status', 'Virginia', 'U.s.', 'U.s.a.', 'USS', 'Uniteed States', 'US Gov position','United Stares', \n",
    " 'I.S.', 'Unites states', 'Unite States', 'The US', 'United states of America',\n",
    " 'For the United States government, but posted overseas', 'IS', 'UnitedStates', 'United statew',\n",
    "'bonus based on meeting yearly goals set w/ my supervisor', \n",
    " \"I earn commission on sales. If I meet quota, I'm guaranteed another 16k min. Last year i earned an additional 27k. It's not uncommon for people in my space to earn 100k+ after commission.\",\n",
    " 'United Statues', 'Untied States','USA (company is based in a US territory, I work remote)','USAB',\n",
    "'Unitied States','United Sttes', 'united stated','United States Of America',\n",
    "'I was brought in on this salary to help with the EHR and very quickly was promoted to current position but compensation was not altered.',\n",
    "'Uniter Statez', 'U. S', 'USA tomorrow', 'United Stateds', 'UXZ',\n",
    "'US govt employee overseas, country withheld', 'San Francisco', 'Usat',\n",
    "'🇺🇸', 'Unitef Stated', 'United STates', 'USaa', 'uSA', 'america', 'Hartford',\n",
    "'Y', 'United y', 'California','uS', 'USD', \"USA, but for foreign gov't\", 'Worldwide (based in US but short term trips aroudn the world)',\n",
    "'United Statss', 'United states of america', 'UsA','I work for a UAE-based organization, though I am personally in the US.',\n",
    "'United  States', 'Aotearoa New Zealand', 'na','United States is America',\n",
    "\"We don't get raises, we get quarterly bonuses, but they periodically asses income in the area you work, so I got a raise because a 3rd party assessment showed I was paid too little for the area we were located\"]"
   ]
  },
  {
   "cell_type": "markdown",
   "id": "85fbadce",
   "metadata": {},
   "source": [
    "Unfortunately, responders have decided to make my life way harder than it should be. Besides basic typo occurrences there are answers which were not supposed to be in this column in the first place. By extracting rows based on these responses, I've found that these non-relevant answers in 'country' column look like they belong to 'additional context on income'. I believe moving these instances into the second column is a reasonable decision."
   ]
  },
  {
   "cell_type": "code",
   "execution_count": 39,
   "id": "637c2b8f",
   "metadata": {},
   "outputs": [],
   "source": [
    "# Assigning values from 'country' to 'additional context on income'\n",
    "copy_df.at[16853, 'additional context on income'] = 'I was brought in on this salary to help with the EHR and very quickly was promoted to current position but compensation was not altered.'\n",
    "copy_df.at[12925, 'additional context on income'] =  \"I earn commission on sales. If I meet quota, I'm guaranteed another 16k min. Last year i earned an additional 27k. It's not uncommon for people in my space to earn 100k+ after commission.\"\n",
    "copy_df.at[12504, 'additional context on income'] = 'bonus based on meeting yearly goals set w/ my supervisor'\n",
    "copy_df.at[2249, 'additional context on income'] = \"We don't get raises, we get quarterly bonuses, but they periodically asses income in the area you work, so I got a raise because a 3rd party assessment showed I was paid too little for the area we were located\""
   ]
  },
  {
   "cell_type": "code",
   "execution_count": 40,
   "id": "e2b5813f",
   "metadata": {},
   "outputs": [],
   "source": [
    "# replacing all inconsistent values of 'US'\n",
    "copy_df = copy_df.replace(US_list, 'US')"
   ]
  },
  {
   "cell_type": "markdown",
   "id": "c764cb7f",
   "metadata": {},
   "source": [
    "'UK' values correction"
   ]
  },
  {
   "cell_type": "code",
   "execution_count": 41,
   "id": "8312961e",
   "metadata": {},
   "outputs": [],
   "source": [
    "UK_list = ['United Kingdom', 'UK', 'Scotland',\n",
    "        'England',  'Uk', 'canada', 'Great Britain', 'Northern Ireland', 'Contracts',\n",
    "       'England/UK', 'England, UK.', 'Britain',\n",
    "        'Global', 'United Kingdom (England)',\n",
    "        'ireland', 'United Kingdom.',\n",
    "       'United kingdom', 'U.K.', \n",
    "       'United Kindom', 'Currently finance', 'England, UK',\n",
    "        'uk', 'UK (Northern Ireland)',\n",
    "       'UK for U.S. company', 'United Kingdomk', \n",
    "       'united kingdom', 'Wales (United Kingdom)', 'England, Gb', 'U.K. (northern England)', 'U.K', \n",
    "       'England, United Kingdom', 'Englang',\n",
    "       'Wales', 'UK (England)', 'UK, remote', 'Scotland, UK', 'Unites kingdom', \n",
    "        'england', 'Wales, UK', 'Wales (UK)',\n",
    "        'Northern Ireland, United Kingdom',\n",
    "       'UK, but for globally fully remote company',\n",
    "       'ENGLAND', 'Ireland', 'UK/UK', 'UK, UK.', 'UK (UK)', 'UK.',  'UK, UK','UKk',\n",
    "          'UK (northern UK)', 'UK, Gb', 'UK (northern UK)' ]"
   ]
  },
  {
   "cell_type": "code",
   "execution_count": 42,
   "id": "5df407ef",
   "metadata": {},
   "outputs": [],
   "source": [
    "copy_df = copy_df.replace(UK_list, 'UK')"
   ]
  },
  {
   "cell_type": "markdown",
   "id": "14be167e",
   "metadata": {},
   "source": [
    "CANADA!"
   ]
  },
  {
   "cell_type": "code",
   "execution_count": 43,
   "id": "eef4f25a",
   "metadata": {},
   "outputs": [],
   "source": [
    "CAN_list = ['Canada', 'Canada, Ottawa, ontario',\n",
    "       'CANADA', 'Canadw', 'Can',\n",
    "       'I am located in Canada but I work for a company in the US',\n",
    "       'Canda', 'Canada and USA',\n",
    "       '$2,175.84/year is deducted for benefits', 'Csnada',\n",
    "        'Canad', 'Remote', 'Singapore', 'Canadá', 'Policy']"
   ]
  },
  {
   "cell_type": "code",
   "execution_count": 44,
   "id": "5d57a9ea",
   "metadata": {},
   "outputs": [],
   "source": [
    "# Additional context on income is in the wrong column. There goes the fix\n",
    "copy_df.at[8383, 'additional context on income'] = '$2,175.84/year is deducted for benefits'"
   ]
  },
  {
   "cell_type": "code",
   "execution_count": 45,
   "id": "91edb33f",
   "metadata": {},
   "outputs": [],
   "source": [
    "copy_df = copy_df.replace(CAN_list, 'Canada')"
   ]
  },
  {
   "cell_type": "markdown",
   "id": "531e4743",
   "metadata": {},
   "source": [
    "creating lists of remaining countries"
   ]
  },
  {
   "cell_type": "code",
   "execution_count": 46,
   "id": "c6e980a9",
   "metadata": {},
   "outputs": [],
   "source": [
    "CZ_list = ['Czech republic', 'Czechia', 'czech republic', 'Czech Republic', 'europe']\n",
    "netherlands_list = ['The Netherlands', 'Netherlands', 'netherlands', 'the Netherlands', 'Nederland',\n",
    "                   'The netherlands', 'the netherlands', 'NL']\n",
    "NZ_list = ['New Zealand', 'New Zealand Aotearoa', 'New zealand', 'NZ', 'new zealand',\n",
    "          'From New Zealand but on projects across APAC']\n",
    "GER_list = ['Germany', 'germany']\n",
    "FR_list = ['France', 'FRANCE', 'france']\n",
    "FIN_list = ['finland', 'Finland' ]\n",
    "JPN_list = ['Japan', 'japan', 'Japan, US Gov position']\n",
    "UAE_list = ['United Arab Emirates','UAE']\n",
    "LUX_list = ['Luxembourg', 'Luxemburg']\n",
    "SPAIN_list = ['Spain','spain' ]\n",
    "UA_list = ['UA', 'Ukraine']\n",
    "CROATIA_list = ['Croatia', 'croatia']\n",
    "ITL_list = ['Italy (South)', 'Italy']\n",
    "HK_list = ['Hong Kong','hong konh']\n",
    "AUS_list = ['Australia', 'australia', 'Australi', 'Australian']\n",
    "CN_list = ['Mainland China', ' China']\n",
    "CH_list = ['switzerland', 'Switzerland', 'SWITZERLAND'] \n",
    "AT_list = ['Austria', 'Austria, but I work remotely for a Dutch/British company']\n",
    "MX_list = ['Mexico','México' ]\n",
    "DK_list = ['Danmark', 'denmark' ]\n",
    "SA_list = ['South Africa', 'South africa']\n",
    "PH_list = ['Philippines', 'Remote (philippines)']\n",
    "ARG_list = ['ARGENTINA BUT MY ORG IS IN THAILAND', \"I work for an US based company but I'm from Argentina.\"]\n",
    "na_list = ['International', 'n/a (remote from wherever I want)']\n"
   ]
  },
  {
   "cell_type": "markdown",
   "id": "a5b44fbd",
   "metadata": {},
   "source": [
    "Replacing the values and maintaining consistency..."
   ]
  },
  {
   "cell_type": "code",
   "execution_count": 47,
   "id": "7128ded6",
   "metadata": {},
   "outputs": [],
   "source": [
    "copy_df = copy_df.replace(CZ_list, 'Czech Republic')\n",
    "copy_df = copy_df.replace(netherlands_list, 'Netherlands')\n",
    "copy_df = copy_df.replace(NZ_list, 'New Zealand')\n",
    "copy_df = copy_df.replace(GER_list, 'Germany')\n",
    "copy_df = copy_df.replace(FR_list, 'France')\n",
    "copy_df = copy_df.replace(FIN_list, 'Finland')\n",
    "copy_df = copy_df.replace(JPN_list, 'Japan')\n",
    "copy_df = copy_df.replace(UAE_list, 'UAE')\n",
    "copy_df = copy_df.replace(LUX_list, 'Luxembourg')\n",
    "copy_df = copy_df.replace(SPAIN_list, 'Spain')\n",
    "copy_df = copy_df.replace(CROATIA_list, 'Croatia')\n",
    "copy_df = copy_df.replace(ITL_list, 'Italy')\n",
    "copy_df = copy_df.replace(HK_list, 'Hong Kong')\n",
    "copy_df = copy_df.replace(AUS_list, 'Australia')\n",
    "copy_df = copy_df.replace(CN_list, 'China')\n",
    "copy_df = copy_df.replace('singapore', 'Singapore', regex = True)\n",
    "copy_df = copy_df.replace(CH_list, 'Switzerland')\n",
    "copy_df = copy_df.replace('From Romania, but for an US based company', 'Romania')\n",
    "copy_df = copy_df.replace(AT_list, 'Austria')\n",
    "copy_df = copy_df.replace(MX_list, 'Mexico')\n",
    "copy_df = copy_df.replace(DK_list, 'Denmark')\n",
    "copy_df = copy_df.replace(SA_list, 'South Africa')\n",
    "copy_df = copy_df.replace(UA_list, 'Ukraine')\n",
    "copy_df = copy_df.replace('United States- Puerto Rico', 'Puerto Rico')\n",
    "copy_df = copy_df.replace(PH_list, 'Philippines')\n",
    "copy_df = copy_df.replace('Company in Germany. I work from Pakistan.', 'Pakistan')\n",
    "copy_df = copy_df.replace(ARG_list, 'Argentina')\n",
    "copy_df = copy_df.replace(na_list, 'Global')"
   ]
  },
  {
   "cell_type": "code",
   "execution_count": 48,
   "id": "77780ec5",
   "metadata": {
    "scrolled": true
   },
   "outputs": [
    {
     "data": {
      "text/plain": [
       "array(['US', 'UK', 'Canada', 'Netherlands', 'Australia', 'Spain',\n",
       "       'Finland', 'France', 'Germany', 'India', 'Argentina', 'Denmark',\n",
       "       'Switzerland', 'Bermuda', 'Malaysia', 'Mexico', 'South Africa',\n",
       "       'Belgium', 'Sweden', 'Hong Kong', 'Kuwait', 'Norway', 'Sri lanka',\n",
       "       'Greece', 'Japan', 'Austria', 'Brazil', 'Hungary', 'Luxembourg',\n",
       "       'Colombia', 'New Zealand', 'Trinidad and Tobago', 'Cayman Islands',\n",
       "       'Czech Republic', 'Latvia', 'Puerto Rico', 'Rwanda', 'UAE',\n",
       "       'Bangladesh', 'Romania', 'Serbia', 'Philippines', 'Russia',\n",
       "       'Poland', 'Turkey', 'Catalonia', 'Italy',\n",
       "       'Jersey, Channel islands', 'China', 'Afghanistan', 'Israel',\n",
       "       'Taiwan', 'Cambodia', 'Vietnam', 'South Korea', 'Thailand',\n",
       "       'Lithuania', 'Eritrea', 'Indonesia', 'Cuba', 'Slovenia',\n",
       "       \"Cote d'Ivoire\", 'Somalia', 'Sri Lanka', 'Slovakia', 'Portugal',\n",
       "       'Sierra Leone', 'Global', 'The Bahamas', 'Costa Rica', 'Chile',\n",
       "       'Qatar', 'Nigeria', 'Panamá', 'Congo', 'Uruguay', 'Pakistan',\n",
       "       'Brasil', 'Singapore', 'Uganda', 'Malta', 'Saudi Arabia',\n",
       "       'Bulgaria', 'Estonia', 'Morocco', 'Africa', 'Ecuador', 'Zimbabwe',\n",
       "       'Ghana', 'Ukraine', 'Croatia', 'Isle of Man', 'Jamaica', 'Kenya',\n",
       "       'Jordan', 'Cyprus', 'Liechtenstein'], dtype=object)"
      ]
     },
     "execution_count": 48,
     "metadata": {},
     "output_type": "execute_result"
    }
   ],
   "source": [
    "copy_df['country'].unique()"
   ]
  },
  {
   "cell_type": "markdown",
   "id": "80fbbfe0",
   "metadata": {},
   "source": [
    "# Part II - Optimizing the remaining columns\n",
    "\n"
   ]
  },
  {
   "cell_type": "markdown",
   "id": "0e6c0fd5",
   "metadata": {},
   "source": [
    "### 2.1. Too many unique states\n",
    "\n",
    "There are 50 states that form the USA (wow!). It's apparent that respondends to have some fun with answer options, clicking not one or two, but simultaneously up to 5 states. I've decided that 'state' column should consist of states that were clicked on/chosen first."
   ]
  },
  {
   "cell_type": "code",
   "execution_count": 49,
   "id": "b7b30e8c",
   "metadata": {},
   "outputs": [],
   "source": [
    "# split the whole string into the list, extracting the first state from it, trimming whitespaces and extra char-s\n",
    "copy_df['state'] = copy_df['state'].str.split(', ').str.get(0).str.strip()"
   ]
  },
  {
   "cell_type": "code",
   "execution_count": 50,
   "id": "49f55cd8",
   "metadata": {},
   "outputs": [
    {
     "data": {
      "text/plain": [
       "51"
      ]
     },
     "execution_count": 50,
     "metadata": {},
     "output_type": "execute_result"
    }
   ],
   "source": [
    "# 50 states + 1 nan\n",
    "copy_df['state'].nunique()"
   ]
  },
  {
   "cell_type": "markdown",
   "id": "28fef67a",
   "metadata": {},
   "source": [
    "### 2.2. Too many race variants is selected by one respondent \n",
    "\n",
    "'Race' column has the similar problem, and it's going to be handled the same way."
   ]
  },
  {
   "cell_type": "code",
   "execution_count": 51,
   "id": "e049ff09",
   "metadata": {},
   "outputs": [],
   "source": [
    "copy_df['race'] = copy_df['race'].str.split(', ').str.get(0).str.strip()"
   ]
  },
  {
   "cell_type": "markdown",
   "id": "3f470d31",
   "metadata": {},
   "source": [
    "### 2.3. Inconsistencies in 'cities' column"
   ]
  },
  {
   "cell_type": "code",
   "execution_count": 52,
   "id": "ce352504",
   "metadata": {},
   "outputs": [
    {
     "data": {
      "text/plain": [
       "4157"
      ]
     },
     "execution_count": 52,
     "metadata": {},
     "output_type": "execute_result"
    }
   ],
   "source": [
    "copy_df['city'].nunique()"
   ]
  },
  {
   "cell_type": "code",
   "execution_count": 72,
   "id": "a160be83",
   "metadata": {},
   "outputs": [],
   "source": [
    "copy_df['city'] = copy_df['city'].str.title() \n",
    "copy_df['city'] = copy_df['city'].str.split(', ').str.get(0).str.strip()\n",
    "copy_df['city'] = copy_df[\"city\"].replace(['New York', 'Nyc (Remote)', 'Nyc'], 'New York City' )\n"
   ]
  },
  {
   "cell_type": "code",
   "execution_count": 73,
   "id": "39cb41d7",
   "metadata": {},
   "outputs": [
    {
     "data": {
      "text/plain": [
       "3477"
      ]
     },
     "execution_count": 73,
     "metadata": {},
     "output_type": "execute_result"
    }
   ],
   "source": [
    "copy_df['city'].nunique()"
   ]
  },
  {
   "cell_type": "markdown",
   "id": "94b37022",
   "metadata": {},
   "source": [
    "I'll be back to improve this part as soon as I'll have required experience in dealing with these kinds of problems. For now, I reduced the size of unique values from 4157 to 3477."
   ]
  },
  {
   "cell_type": "markdown",
   "id": "b678e13f",
   "metadata": {},
   "source": [
    "### 2.4. Currency trouble\n",
    "\n",
    "I noticed that many respondents from neither Australia nor New Zealand are happy about their currency options. I'll handle it buy splitting AUS/NZD, assigning them to their respective countries."
   ]
  },
  {
   "cell_type": "code",
   "execution_count": 119,
   "id": "a6bf0dae",
   "metadata": {},
   "outputs": [],
   "source": [
    "#reorganizing the currency values...\n",
    "copy_df.loc[copy_df['country'] == \"New Zealand\", \"currency\"] = \"NZD\"\n",
    "copy_df.loc[copy_df['country'] == \"Australia\", \"currency\"] = \"AUD\"\n",
    "\n",
    "#...simultaneously deleting complaints about them\n",
    "copy_df.loc[copy_df['country'] == \"Australia\", \"currency - other\"] = \"\" \n",
    "copy_df.loc[copy_df['country'] == \"New Zealand\", \"currency - other\"] = \"\""
   ]
  },
  {
   "cell_type": "code",
   "execution_count": 138,
   "id": "9c0a95e9",
   "metadata": {},
   "outputs": [],
   "source": [
    "# Treating US the same way\n",
    "copy_df.loc[copy_df['country'] == \"US\", \"currency\"] = \"USD\" #USD was labeled as US for some reason. \n",
    "copy_df.loc[copy_df['country'] == \"US\", \"currency - other\"] = \"\" #there were no people other than \n",
    "                                                                 #US respondents who use 'US' as a currency \n",
    "                                                                 #in the secondary column \n",
    "copy_df.at[[25510,26236], 'currency'] = 'USD'"
   ]
  },
  {
   "cell_type": "code",
   "execution_count": 144,
   "id": "9b685d4e",
   "metadata": {},
   "outputs": [],
   "source": [
    "# and Canada, too\n",
    "copy_df.loc[copy_df['country'] == \"Canada\", \"currency\"] = \"CAD\"\n",
    "copy_df.loc[copy_df['country'] == \"Canada\", \"currency - other\"] = \"\"\n",
    "copy_df.at[17426, 'currency'] = 'CAD'"
   ]
  },
  {
   "cell_type": "code",
   "execution_count": 253,
   "id": "aff5e9ef",
   "metadata": {},
   "outputs": [],
   "source": [
    "#treating some individual examples\n",
    "copy_df.at[3261, 'currency'] = 'EUR'\n",
    "copy_df.loc[copy_df['country'] == \"Hungary\", \"currency - other\"] = \"\" #respondent from Hungary\n",
    "copy_df.loc[copy_df['country'] == \"Czech Republic\", \"currency - other\"] = \"CZK\" #Czech Republic \n",
    "copy_df.at[3145, 'country'] = 'Canada'\n",
    "copy_df.loc[copy_df['country'] == \"Canada\", \"currency - other\"] = \"\" #Canada\n",
    "copy_df.at[[5396,5871] , 'currency'] = 'GBP'\n",
    "copy_df.loc[copy_df['country'] == \"UK\", \"currency - other\"] = \"\" #UK\n",
    "copy_df.loc[copy_df['country'] == \"Philippines\", \"currency - other\"] = \"PHP\" #Phillippines\n",
    "copy_df.loc[copy_df['country'] == \"Brazil\", \"currency - other\"] = \"BRL\"\n",
    "copy_df.loc[copy_df['country'] == \"Brazil\", \"currency\"] = \"\"\n",
    "copy_df.loc[copy_df['country'] == \"Denmark\", \"currency - other\"] = \"DKK\"\n",
    "copy_df.loc[copy_df['country'] == \"Denmark\", \"currency\"] = \"\"\n",
    "copy_df.loc[copy_df['country'] == \"Argentina\", \"currency - other\"] = \"ARS\"\n",
    "copy_df.loc[copy_df['country'] == \"Mexico\", \"currency - other\"] = \"MXN\"\n",
    "copy_df.loc[copy_df['country'] == \"India\", \"currency - other\"] = \"INR\"\n",
    "copy_df.loc[copy_df['country'] == \"Bangladesh\", \"currency - other\"] = \"BDT\"\n",
    "copy_df.loc[copy_df['country'] == \"Poland\", \"currency - other\"] = \"PLN\"\n",
    "copy_df.loc[copy_df['country'] == \"Norway\", \"currency - other\"] = \"NOK\"\n",
    "copy_df.loc[copy_df['country'] == \"Israel\", \"currency - other\"] = \"ILS/NIS\"\n",
    "copy_df.loc[copy_df['country'] == \"China\", \"currency - other\"] = \"RMB\"\n",
    "copy_df.loc[copy_df['country'] == \"South Korea\", \"currency - other\"] = \"KRW\"\n",
    "copy_df.loc[copy_df['country'] == \"Thailand\", \"currency - other\"] = \"THB\"\n",
    "copy_df.loc[copy_df['country'] == \"Croatia\", \"currency - other\"] = \"KN\"\n",
    "copy_df.loc[copy_df['country'] == \"Taiwan\", \"currency - other\"] = \"NTD\"\n",
    "copy_df.loc[copy_df['country'] == \"Pakistan\", \"currency - other\"] = \"\""
   ]
  },
  {
   "cell_type": "code",
   "execution_count": 254,
   "id": "8bd62878",
   "metadata": {},
   "outputs": [
    {
     "data": {
      "text/plain": [
       "array(['USD', 'GBP', 'CAD', 'EUR', 'AUD', 'Other', '', 'CHF', 'ZAR',\n",
       "       'SEK', 'HKD', 'NZD', 'JPY'], dtype=object)"
      ]
     },
     "execution_count": 254,
     "metadata": {},
     "output_type": "execute_result"
    }
   ],
   "source": [
    "copy_df['currency'].unique()"
   ]
  },
  {
   "cell_type": "code",
   "execution_count": 255,
   "id": "7147b2f1",
   "metadata": {},
   "outputs": [
    {
     "data": {
      "text/plain": [
       "array(['', nan, 'INR', 'ARS', 'DKK', 'MYR', 'MXN', 'CHF', 'KWD', 'NOK',\n",
       "       'BRL', 'SEK', 'COP', 'TTD', 'CZK', 'BDT', 'ZAR', 'PHP', 'PLN',\n",
       "       'TRY', 'RMB', 'ILS/NIS', 'NTD', 'KRW', 'THB', 'IDR', 'LKR', 'SAR',\n",
       "       'RM', 'KN'], dtype=object)"
      ]
     },
     "execution_count": 255,
     "metadata": {},
     "output_type": "execute_result"
    }
   ],
   "source": [
    "copy_df['currency - other'].unique()"
   ]
  },
  {
   "cell_type": "code",
   "execution_count": 256,
   "id": "7ebeefcf",
   "metadata": {},
   "outputs": [
    {
     "data": {
      "text/html": [
       "<div>\n",
       "<style scoped>\n",
       "    .dataframe tbody tr th:only-of-type {\n",
       "        vertical-align: middle;\n",
       "    }\n",
       "\n",
       "    .dataframe tbody tr th {\n",
       "        vertical-align: top;\n",
       "    }\n",
       "\n",
       "    .dataframe thead th {\n",
       "        text-align: right;\n",
       "    }\n",
       "</style>\n",
       "<table border=\"1\" class=\"dataframe\">\n",
       "  <thead>\n",
       "    <tr style=\"text-align: right;\">\n",
       "      <th></th>\n",
       "      <th>timestamp</th>\n",
       "      <th>how old are you?</th>\n",
       "      <th>industry</th>\n",
       "      <th>job title</th>\n",
       "      <th>additional context on job title</th>\n",
       "      <th>annual salary</th>\n",
       "      <th>other monetary comp</th>\n",
       "      <th>currency</th>\n",
       "      <th>currency - other</th>\n",
       "      <th>additional context on income</th>\n",
       "      <th>country</th>\n",
       "      <th>state</th>\n",
       "      <th>city</th>\n",
       "      <th>overall years of professional experience</th>\n",
       "      <th>years of experience in field</th>\n",
       "      <th>highest level of education completed</th>\n",
       "      <th>gender</th>\n",
       "      <th>race</th>\n",
       "    </tr>\n",
       "  </thead>\n",
       "  <tbody>\n",
       "    <tr>\n",
       "      <th>0</th>\n",
       "      <td>2021-04-27</td>\n",
       "      <td>25-34</td>\n",
       "      <td>Education (Higher Education)</td>\n",
       "      <td>Research and Instruction Librarian</td>\n",
       "      <td>NaN</td>\n",
       "      <td>55000</td>\n",
       "      <td>0.0</td>\n",
       "      <td>USD</td>\n",
       "      <td></td>\n",
       "      <td>NaN</td>\n",
       "      <td>US</td>\n",
       "      <td>Massachusetts</td>\n",
       "      <td>Boston</td>\n",
       "      <td>5-7 years</td>\n",
       "      <td>5-7 years</td>\n",
       "      <td>Master's degree</td>\n",
       "      <td>Woman</td>\n",
       "      <td>White</td>\n",
       "    </tr>\n",
       "    <tr>\n",
       "      <th>1</th>\n",
       "      <td>2021-04-27</td>\n",
       "      <td>25-34</td>\n",
       "      <td>Computing or Tech</td>\n",
       "      <td>Change &amp; Internal Communications Manager</td>\n",
       "      <td>NaN</td>\n",
       "      <td>54600</td>\n",
       "      <td>4000.0</td>\n",
       "      <td>GBP</td>\n",
       "      <td></td>\n",
       "      <td>NaN</td>\n",
       "      <td>UK</td>\n",
       "      <td>NaN</td>\n",
       "      <td>Cambridge</td>\n",
       "      <td>8 - 10 years</td>\n",
       "      <td>5-7 years</td>\n",
       "      <td>College degree</td>\n",
       "      <td>Non-binary</td>\n",
       "      <td>White</td>\n",
       "    </tr>\n",
       "    <tr>\n",
       "      <th>2</th>\n",
       "      <td>2021-04-27</td>\n",
       "      <td>25-34</td>\n",
       "      <td>Accounting, Banking &amp; Finance</td>\n",
       "      <td>Marketing Specialist</td>\n",
       "      <td>NaN</td>\n",
       "      <td>34000</td>\n",
       "      <td>NaN</td>\n",
       "      <td>USD</td>\n",
       "      <td></td>\n",
       "      <td>NaN</td>\n",
       "      <td>US</td>\n",
       "      <td>Tennessee</td>\n",
       "      <td>Chattanooga</td>\n",
       "      <td>2 - 4 years</td>\n",
       "      <td>2 - 4 years</td>\n",
       "      <td>College degree</td>\n",
       "      <td>Woman</td>\n",
       "      <td>White</td>\n",
       "    </tr>\n",
       "    <tr>\n",
       "      <th>3</th>\n",
       "      <td>2021-04-27</td>\n",
       "      <td>25-34</td>\n",
       "      <td>Nonprofits</td>\n",
       "      <td>Program Manager</td>\n",
       "      <td>NaN</td>\n",
       "      <td>62000</td>\n",
       "      <td>3000.0</td>\n",
       "      <td>USD</td>\n",
       "      <td></td>\n",
       "      <td>NaN</td>\n",
       "      <td>US</td>\n",
       "      <td>Wisconsin</td>\n",
       "      <td>Milwaukee</td>\n",
       "      <td>8 - 10 years</td>\n",
       "      <td>5-7 years</td>\n",
       "      <td>College degree</td>\n",
       "      <td>Woman</td>\n",
       "      <td>White</td>\n",
       "    </tr>\n",
       "    <tr>\n",
       "      <th>4</th>\n",
       "      <td>2021-04-27</td>\n",
       "      <td>25-34</td>\n",
       "      <td>Accounting, Banking &amp; Finance</td>\n",
       "      <td>Accounting Manager</td>\n",
       "      <td>NaN</td>\n",
       "      <td>60000</td>\n",
       "      <td>7000.0</td>\n",
       "      <td>USD</td>\n",
       "      <td></td>\n",
       "      <td>NaN</td>\n",
       "      <td>US</td>\n",
       "      <td>South Carolina</td>\n",
       "      <td>Greenville</td>\n",
       "      <td>8 - 10 years</td>\n",
       "      <td>5-7 years</td>\n",
       "      <td>College degree</td>\n",
       "      <td>Woman</td>\n",
       "      <td>White</td>\n",
       "    </tr>\n",
       "    <tr>\n",
       "      <th>...</th>\n",
       "      <td>...</td>\n",
       "      <td>...</td>\n",
       "      <td>...</td>\n",
       "      <td>...</td>\n",
       "      <td>...</td>\n",
       "      <td>...</td>\n",
       "      <td>...</td>\n",
       "      <td>...</td>\n",
       "      <td>...</td>\n",
       "      <td>...</td>\n",
       "      <td>...</td>\n",
       "      <td>...</td>\n",
       "      <td>...</td>\n",
       "      <td>...</td>\n",
       "      <td>...</td>\n",
       "      <td>...</td>\n",
       "      <td>...</td>\n",
       "      <td>...</td>\n",
       "    </tr>\n",
       "    <tr>\n",
       "      <th>27615</th>\n",
       "      <td>2022-01-17</td>\n",
       "      <td>25-34</td>\n",
       "      <td>Sales</td>\n",
       "      <td>Sales Representative</td>\n",
       "      <td>NaN</td>\n",
       "      <td>43000</td>\n",
       "      <td>500.0</td>\n",
       "      <td>USD</td>\n",
       "      <td></td>\n",
       "      <td>NaN</td>\n",
       "      <td>US</td>\n",
       "      <td>Minnesota</td>\n",
       "      <td>Minneapolis</td>\n",
       "      <td>1 year or less</td>\n",
       "      <td>1 year or less</td>\n",
       "      <td>College degree</td>\n",
       "      <td>Woman</td>\n",
       "      <td>White</td>\n",
       "    </tr>\n",
       "    <tr>\n",
       "      <th>27616</th>\n",
       "      <td>2022-01-18</td>\n",
       "      <td>25-34</td>\n",
       "      <td>Engineering or Manufacturing</td>\n",
       "      <td>Staff Engineer</td>\n",
       "      <td>Local Gov. City Planning</td>\n",
       "      <td>76000</td>\n",
       "      <td>5000.0</td>\n",
       "      <td>USD</td>\n",
       "      <td></td>\n",
       "      <td>NaN</td>\n",
       "      <td>US</td>\n",
       "      <td>North Dakota</td>\n",
       "      <td>Williston</td>\n",
       "      <td>5-7 years</td>\n",
       "      <td>1 year or less</td>\n",
       "      <td>College degree</td>\n",
       "      <td>Woman</td>\n",
       "      <td>White</td>\n",
       "    </tr>\n",
       "    <tr>\n",
       "      <th>27617</th>\n",
       "      <td>2022-01-18</td>\n",
       "      <td>25-34</td>\n",
       "      <td>Engineering or Manufacturing</td>\n",
       "      <td>Petroleum Engineer</td>\n",
       "      <td>field engineer</td>\n",
       "      <td>96000</td>\n",
       "      <td>45000.0</td>\n",
       "      <td>USD</td>\n",
       "      <td></td>\n",
       "      <td>NaN</td>\n",
       "      <td>US</td>\n",
       "      <td>North Dakota</td>\n",
       "      <td>Williston</td>\n",
       "      <td>5-7 years</td>\n",
       "      <td>5-7 years</td>\n",
       "      <td>College degree</td>\n",
       "      <td>Woman</td>\n",
       "      <td>White</td>\n",
       "    </tr>\n",
       "    <tr>\n",
       "      <th>27618</th>\n",
       "      <td>2022-01-20</td>\n",
       "      <td>35-44</td>\n",
       "      <td>Computing or Tech</td>\n",
       "      <td>Head of Business Operations</td>\n",
       "      <td>NaN</td>\n",
       "      <td>210000</td>\n",
       "      <td>40000.0</td>\n",
       "      <td>USD</td>\n",
       "      <td></td>\n",
       "      <td>NaN</td>\n",
       "      <td>US</td>\n",
       "      <td>US</td>\n",
       "      <td>Los Angeles</td>\n",
       "      <td>11 - 20 years</td>\n",
       "      <td>2 - 4 years</td>\n",
       "      <td>Master's degree</td>\n",
       "      <td>Man</td>\n",
       "      <td>Another option not listed here or prefer not t...</td>\n",
       "    </tr>\n",
       "    <tr>\n",
       "      <th>27619</th>\n",
       "      <td>2022-01-20</td>\n",
       "      <td>25-34</td>\n",
       "      <td>Retail</td>\n",
       "      <td>VP of Marketing and Operations</td>\n",
       "      <td>Part-time</td>\n",
       "      <td>70000</td>\n",
       "      <td>35000.0</td>\n",
       "      <td>USD</td>\n",
       "      <td></td>\n",
       "      <td>NaN</td>\n",
       "      <td>US</td>\n",
       "      <td>Minnesota</td>\n",
       "      <td>St Paul</td>\n",
       "      <td>5-7 years</td>\n",
       "      <td>1 year or less</td>\n",
       "      <td>College degree</td>\n",
       "      <td>Woman</td>\n",
       "      <td>White</td>\n",
       "    </tr>\n",
       "  </tbody>\n",
       "</table>\n",
       "<p>27620 rows × 18 columns</p>\n",
       "</div>"
      ],
      "text/plain": [
       "       timestamp how old are you?                       industry  \\\n",
       "0     2021-04-27            25-34   Education (Higher Education)   \n",
       "1     2021-04-27            25-34              Computing or Tech   \n",
       "2     2021-04-27            25-34  Accounting, Banking & Finance   \n",
       "3     2021-04-27            25-34                     Nonprofits   \n",
       "4     2021-04-27            25-34  Accounting, Banking & Finance   \n",
       "...          ...              ...                            ...   \n",
       "27615 2022-01-17            25-34                          Sales   \n",
       "27616 2022-01-18            25-34   Engineering or Manufacturing   \n",
       "27617 2022-01-18            25-34   Engineering or Manufacturing   \n",
       "27618 2022-01-20            35-44              Computing or Tech   \n",
       "27619 2022-01-20            25-34                         Retail   \n",
       "\n",
       "                                      job title  \\\n",
       "0            Research and Instruction Librarian   \n",
       "1      Change & Internal Communications Manager   \n",
       "2                          Marketing Specialist   \n",
       "3                               Program Manager   \n",
       "4                            Accounting Manager   \n",
       "...                                         ...   \n",
       "27615                      Sales Representative   \n",
       "27616                            Staff Engineer   \n",
       "27617                        Petroleum Engineer   \n",
       "27618               Head of Business Operations   \n",
       "27619            VP of Marketing and Operations   \n",
       "\n",
       "      additional context on job title  annual salary  other monetary comp  \\\n",
       "0                                 NaN          55000                  0.0   \n",
       "1                                 NaN          54600               4000.0   \n",
       "2                                 NaN          34000                  NaN   \n",
       "3                                 NaN          62000               3000.0   \n",
       "4                                 NaN          60000               7000.0   \n",
       "...                               ...            ...                  ...   \n",
       "27615                             NaN          43000                500.0   \n",
       "27616        Local Gov. City Planning          76000               5000.0   \n",
       "27617                  field engineer          96000              45000.0   \n",
       "27618                             NaN         210000              40000.0   \n",
       "27619                       Part-time          70000              35000.0   \n",
       "\n",
       "      currency currency - other additional context on income country  \\\n",
       "0          USD                                           NaN      US   \n",
       "1          GBP                                           NaN      UK   \n",
       "2          USD                                           NaN      US   \n",
       "3          USD                                           NaN      US   \n",
       "4          USD                                           NaN      US   \n",
       "...        ...              ...                          ...     ...   \n",
       "27615      USD                                           NaN      US   \n",
       "27616      USD                                           NaN      US   \n",
       "27617      USD                                           NaN      US   \n",
       "27618      USD                                           NaN      US   \n",
       "27619      USD                                           NaN      US   \n",
       "\n",
       "                state         city overall years of professional experience  \\\n",
       "0       Massachusetts       Boston                                5-7 years   \n",
       "1                 NaN    Cambridge                             8 - 10 years   \n",
       "2           Tennessee  Chattanooga                              2 - 4 years   \n",
       "3           Wisconsin    Milwaukee                             8 - 10 years   \n",
       "4      South Carolina   Greenville                             8 - 10 years   \n",
       "...               ...          ...                                      ...   \n",
       "27615       Minnesota  Minneapolis                           1 year or less   \n",
       "27616    North Dakota    Williston                                5-7 years   \n",
       "27617    North Dakota    Williston                                5-7 years   \n",
       "27618              US  Los Angeles                            11 - 20 years   \n",
       "27619       Minnesota      St Paul                                5-7 years   \n",
       "\n",
       "      years of experience in field highest level of education completed  \\\n",
       "0                        5-7 years                      Master's degree   \n",
       "1                        5-7 years                       College degree   \n",
       "2                      2 - 4 years                       College degree   \n",
       "3                        5-7 years                       College degree   \n",
       "4                        5-7 years                       College degree   \n",
       "...                            ...                                  ...   \n",
       "27615               1 year or less                       College degree   \n",
       "27616               1 year or less                       College degree   \n",
       "27617                    5-7 years                       College degree   \n",
       "27618                  2 - 4 years                      Master's degree   \n",
       "27619               1 year or less                       College degree   \n",
       "\n",
       "           gender                                               race  \n",
       "0           Woman                                              White  \n",
       "1      Non-binary                                              White  \n",
       "2           Woman                                              White  \n",
       "3           Woman                                              White  \n",
       "4           Woman                                              White  \n",
       "...           ...                                                ...  \n",
       "27615       Woman                                              White  \n",
       "27616       Woman                                              White  \n",
       "27617       Woman                                              White  \n",
       "27618         Man  Another option not listed here or prefer not t...  \n",
       "27619       Woman                                              White  \n",
       "\n",
       "[27620 rows x 18 columns]"
      ]
     },
     "execution_count": 256,
     "metadata": {},
     "output_type": "execute_result"
    }
   ],
   "source": [
    "copy_df"
   ]
  }
 ],
 "metadata": {
  "kernelspec": {
   "display_name": "Python 3 (ipykernel)",
   "language": "python",
   "name": "python3"
  },
  "language_info": {
   "codemirror_mode": {
    "name": "ipython",
    "version": 3
   },
   "file_extension": ".py",
   "mimetype": "text/x-python",
   "name": "python",
   "nbconvert_exporter": "python",
   "pygments_lexer": "ipython3",
   "version": "3.9.7"
  }
 },
 "nbformat": 4,
 "nbformat_minor": 5
}
